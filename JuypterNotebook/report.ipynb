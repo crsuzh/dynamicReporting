{
 "cells": [
  {
   "cell_type": "markdown",
   "id": "81ea761a",
   "metadata": {
    "tags": []
   },
   "source": [
    "# Import data"
   ]
  },
  {
   "cell_type": "code",
   "execution_count": 1,
   "id": "d3f38ae2",
   "metadata": {
    "scrolled": true
   },
   "outputs": [],
   "source": [
    "import pandas as pd\n",
    "dat = pd.read_csv(\"../data/iris.csv\")"
   ]
  }
 ],
 "metadata": {
  "authors": [
   {
    "name": "Felix Hofmann"
   },
   {
    "name": "Samuel Pawel"
   }
  ],
  "kernelspec": {
   "display_name": "Python 3 (ipykernel)",
   "language": "python",
   "name": "python3"
  },
  "language_info": {
   "codemirror_mode": {
    "name": "ipython",
    "version": 3
   },
   "file_extension": ".py",
   "mimetype": "text/x-python",
   "name": "python",
   "nbconvert_exporter": "python",
   "pygments_lexer": "ipython3",
   "version": "3.8.10"
  },
  "title": "Dynamic Reporting with Jupyter Notebook"
 },
 "nbformat": 4,
 "nbformat_minor": 5
}
